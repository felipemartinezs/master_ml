{
 "cells": [
  {
   "cell_type": "code",
   "execution_count": 1,
   "metadata": {},
   "outputs": [
    {
     "data": {
      "text/html": [
       "<div>\n",
       "<style scoped>\n",
       "    .dataframe tbody tr th:only-of-type {\n",
       "        vertical-align: middle;\n",
       "    }\n",
       "\n",
       "    .dataframe tbody tr th {\n",
       "        vertical-align: top;\n",
       "    }\n",
       "\n",
       "    .dataframe thead th {\n",
       "        text-align: right;\n",
       "    }\n",
       "</style>\n",
       "<table border=\"1\" class=\"dataframe\">\n",
       "  <thead>\n",
       "    <tr style=\"text-align: right;\">\n",
       "      <th></th>\n",
       "      <th>ID</th>\n",
       "      <th>Reason for absence</th>\n",
       "      <th>Month of absence</th>\n",
       "      <th>Day of the week</th>\n",
       "      <th>Seasons</th>\n",
       "      <th>Transportation expense</th>\n",
       "      <th>Distance from Residence to Work</th>\n",
       "      <th>Service time</th>\n",
       "      <th>Age</th>\n",
       "      <th>Work load Average/day</th>\n",
       "      <th>Hit target</th>\n",
       "      <th>Disciplinary failure</th>\n",
       "      <th>Education</th>\n",
       "      <th>Body mass index</th>\n",
       "      <th>Absenteeism time in hours</th>\n",
       "    </tr>\n",
       "  </thead>\n",
       "  <tbody>\n",
       "    <tr>\n",
       "      <th>0</th>\n",
       "      <td>11</td>\n",
       "      <td>26</td>\n",
       "      <td>7</td>\n",
       "      <td>3</td>\n",
       "      <td>1</td>\n",
       "      <td>289</td>\n",
       "      <td>36</td>\n",
       "      <td>13</td>\n",
       "      <td>33</td>\n",
       "      <td>239.554</td>\n",
       "      <td>97</td>\n",
       "      <td>0</td>\n",
       "      <td>1</td>\n",
       "      <td>30</td>\n",
       "      <td>4</td>\n",
       "    </tr>\n",
       "    <tr>\n",
       "      <th>1</th>\n",
       "      <td>36</td>\n",
       "      <td>0</td>\n",
       "      <td>7</td>\n",
       "      <td>3</td>\n",
       "      <td>1</td>\n",
       "      <td>118</td>\n",
       "      <td>13</td>\n",
       "      <td>18</td>\n",
       "      <td>50</td>\n",
       "      <td>239.554</td>\n",
       "      <td>97</td>\n",
       "      <td>1</td>\n",
       "      <td>1</td>\n",
       "      <td>31</td>\n",
       "      <td>0</td>\n",
       "    </tr>\n",
       "    <tr>\n",
       "      <th>2</th>\n",
       "      <td>3</td>\n",
       "      <td>23</td>\n",
       "      <td>7</td>\n",
       "      <td>4</td>\n",
       "      <td>1</td>\n",
       "      <td>179</td>\n",
       "      <td>51</td>\n",
       "      <td>18</td>\n",
       "      <td>38</td>\n",
       "      <td>239.554</td>\n",
       "      <td>97</td>\n",
       "      <td>0</td>\n",
       "      <td>1</td>\n",
       "      <td>31</td>\n",
       "      <td>2</td>\n",
       "    </tr>\n",
       "    <tr>\n",
       "      <th>3</th>\n",
       "      <td>7</td>\n",
       "      <td>7</td>\n",
       "      <td>7</td>\n",
       "      <td>5</td>\n",
       "      <td>1</td>\n",
       "      <td>279</td>\n",
       "      <td>5</td>\n",
       "      <td>14</td>\n",
       "      <td>39</td>\n",
       "      <td>239.554</td>\n",
       "      <td>97</td>\n",
       "      <td>0</td>\n",
       "      <td>1</td>\n",
       "      <td>24</td>\n",
       "      <td>4</td>\n",
       "    </tr>\n",
       "    <tr>\n",
       "      <th>4</th>\n",
       "      <td>11</td>\n",
       "      <td>23</td>\n",
       "      <td>7</td>\n",
       "      <td>5</td>\n",
       "      <td>1</td>\n",
       "      <td>289</td>\n",
       "      <td>36</td>\n",
       "      <td>13</td>\n",
       "      <td>33</td>\n",
       "      <td>239.554</td>\n",
       "      <td>97</td>\n",
       "      <td>0</td>\n",
       "      <td>1</td>\n",
       "      <td>30</td>\n",
       "      <td>2</td>\n",
       "    </tr>\n",
       "  </tbody>\n",
       "</table>\n",
       "</div>"
      ],
      "text/plain": [
       "   ID  Reason for absence  Month of absence  Day of the week  Seasons  \\\n",
       "0  11                  26                 7                3        1   \n",
       "1  36                   0                 7                3        1   \n",
       "2   3                  23                 7                4        1   \n",
       "3   7                   7                 7                5        1   \n",
       "4  11                  23                 7                5        1   \n",
       "\n",
       "   Transportation expense  Distance from Residence to Work  Service time  Age  \\\n",
       "0                     289                               36            13   33   \n",
       "1                     118                               13            18   50   \n",
       "2                     179                               51            18   38   \n",
       "3                     279                                5            14   39   \n",
       "4                     289                               36            13   33   \n",
       "\n",
       "   Work load Average/day   Hit target  Disciplinary failure  Education  \\\n",
       "0                 239.554          97                     0          1   \n",
       "1                 239.554          97                     1          1   \n",
       "2                 239.554          97                     0          1   \n",
       "3                 239.554          97                     0          1   \n",
       "4                 239.554          97                     0          1   \n",
       "\n",
       "   Body mass index  Absenteeism time in hours  \n",
       "0               30                          4  \n",
       "1               31                          0  \n",
       "2               31                          2  \n",
       "3               24                          4  \n",
       "4               30                          2  "
      ]
     },
     "execution_count": 1,
     "metadata": {},
     "output_type": "execute_result"
    }
   ],
   "source": [
    "import pandas as pd\n",
    "dataframe = pd.read_csv('Absenteeism_at_work.csv')\n",
    "dataframe.head()"
   ]
  },
  {
   "cell_type": "code",
   "execution_count": 2,
   "metadata": {},
   "outputs": [
    {
     "name": "stdout",
     "output_type": "stream",
     "text": [
      "['n', '.', 's', 'm', 't', 'c', 'k', 'v', '_', 's', 's', 'e', 'b', 'w']\n",
      "['A', 'e', 'e', 'i', '_', 'a', 't', 'o', 'r']\n"
     ]
    }
   ],
   "source": [
    "# Example of Splitting a Contrived Dataset into Train and Test\n",
    "from random import seed\n",
    "from random import randrange\n",
    "\n",
    "# Split a dataset into a train and test set\n",
    "def train_test_split(dataset, split=0.60):\n",
    "    train = list()\n",
    "    train_size = split * len(dataset)\n",
    "    dataset_copy = list(dataset)\n",
    "    while len(train) < train_size:\n",
    "        index = randrange(len(dataset_copy))\n",
    "        train.append(dataset_copy.pop(index))\n",
    "    return train, dataset_copy\n",
    "\n",
    "# test train/test split\n",
    "seed(1)\n",
    "dataset = 'Absenteeism_at_work.csv'\n",
    "train, test = train_test_split(dataset)\n",
    "print(train)\n",
    "print(test)"
   ]
  },
  {
   "cell_type": "code",
   "execution_count": 7,
   "metadata": {},
   "outputs": [
    {
     "ename": "TypeError",
     "evalue": "train_test_split() got an unexpected keyword argument 'test_size'",
     "output_type": "error",
     "traceback": [
      "\u001b[0;31m---------------------------------------------------------------------------\u001b[0m",
      "\u001b[0;31mTypeError\u001b[0m                                 Traceback (most recent call last)",
      "\u001b[0;32m<ipython-input-7-4c01f506bb3b>\u001b[0m in \u001b[0;36m<module>\u001b[0;34m()\u001b[0m\n\u001b[1;32m      5\u001b[0m \u001b[0;31m#validation_size = 0.20\u001b[0m\u001b[0;34m\u001b[0m\u001b[0;34m\u001b[0m\u001b[0m\n\u001b[1;32m      6\u001b[0m \u001b[0mseed\u001b[0m \u001b[0;34m=\u001b[0m \u001b[0;36m7\u001b[0m\u001b[0;34m\u001b[0m\u001b[0m\n\u001b[0;32m----> 7\u001b[0;31m \u001b[0mX_train\u001b[0m\u001b[0;34m,\u001b[0m \u001b[0mX_validation\u001b[0m\u001b[0;34m,\u001b[0m \u001b[0mY_train\u001b[0m\u001b[0;34m,\u001b[0m \u001b[0mY_validation\u001b[0m \u001b[0;34m=\u001b[0m \u001b[0mtrain_test_split\u001b[0m\u001b[0;34m(\u001b[0m\u001b[0mX\u001b[0m\u001b[0;34m,\u001b[0m \u001b[0mY\u001b[0m\u001b[0;34m,\u001b[0m \u001b[0mtest_size\u001b[0m\u001b[0;34m=\u001b[0m\u001b[0;36m.2\u001b[0m\u001b[0;34m,\u001b[0m \u001b[0mrandom_state\u001b[0m\u001b[0;34m=\u001b[0m\u001b[0mseed\u001b[0m\u001b[0;34m)\u001b[0m\u001b[0;34m\u001b[0m\u001b[0m\n\u001b[0m",
      "\u001b[0;31mTypeError\u001b[0m: train_test_split() got an unexpected keyword argument 'test_size'"
     ]
    }
   ],
   "source": [
    "# Split-out validation dataset\n",
    "array = dataframe.values\n",
    "X = array[:,0:15]\n",
    "Y = array[:,14]\n",
    "#validation_size = 0.20\n",
    "seed = 7\n",
    "X_train, X_validation, Y_train, Y_validation = train_test_split(X, Y, test_size=.2, random_state=seed)"
   ]
  },
  {
   "cell_type": "code",
   "execution_count": 9,
   "metadata": {},
   "outputs": [],
   "source": [
    "import numpy as np\n",
    "from sklearn.model_selection import train_test_split\n",
    "\n",
    "X_train, X_test, y_train, y_test = train_test_split(\n",
    "    X, Y, test_size=0.33, random_state=42)"
   ]
  },
  {
   "cell_type": "code",
   "execution_count": 10,
   "metadata": {},
   "outputs": [
    {
     "data": {
      "text/plain": [
       "array([[11., 19.,  7., ...,  1., 30.,  8.],\n",
       "       [34., 10.,  6., ...,  1., 28.,  3.],\n",
       "       [ 5.,  0., 10., ...,  1., 38.,  0.],\n",
       "       ...,\n",
       "       [ 3., 11.,  9., ...,  1., 31.,  8.],\n",
       "       [28., 25.,  5., ...,  1., 24.,  3.],\n",
       "       [28., 23., 12., ...,  1., 24.,  2.]])"
      ]
     },
     "execution_count": 10,
     "metadata": {},
     "output_type": "execute_result"
    }
   ],
   "source": [
    "X_train"
   ]
  },
  {
   "cell_type": "code",
   "execution_count": 11,
   "metadata": {},
   "outputs": [
    {
     "data": {
      "text/plain": [
       "array([[28., 27.,  1., ...,  1., 24.,  1.],\n",
       "       [33., 26.,  4., ...,  1., 32.,  4.],\n",
       "       [20., 10., 11., ...,  1., 23.,  8.],\n",
       "       ...,\n",
       "       [34., 19., 12., ...,  1., 28., 56.],\n",
       "       [34., 19.,  1., ...,  1., 28.,  1.],\n",
       "       [34., 10.,  4., ...,  1., 28.,  2.]])"
      ]
     },
     "execution_count": 11,
     "metadata": {},
     "output_type": "execute_result"
    }
   ],
   "source": [
    "X_test"
   ]
  },
  {
   "cell_type": "code",
   "execution_count": 12,
   "metadata": {},
   "outputs": [
    {
     "data": {
      "text/plain": [
       "array([  8.,   3.,   0.,   3.,   4.,   8.,   2.,   2.,   8.,   2.,   3.,\n",
       "         2.,   8.,   8.,   8.,   4.,   8.,   8.,  80.,  16.,   8.,   4.,\n",
       "         8.,   8.,   2.,   2.,   3.,   8.,   4.,   1.,   8.,   4.,   2.,\n",
       "         2.,   2.,   1.,   4.,   8.,  32.,  40.,   8.,   2.,   3.,   2.,\n",
       "         2.,   0.,   2.,   4.,   3.,   1.,   3.,   1.,   1.,   3.,   0.,\n",
       "         1.,   8.,   4.,   0.,   3.,   0.,   1.,   3.,  16.,   1.,   3.,\n",
       "         2.,   2.,   2.,   8.,   8.,   4.,   2.,   1.,   2.,   8.,   8.,\n",
       "         8.,   8.,   8.,   3.,   3.,  16.,   2.,   3.,   8.,   4.,   1.,\n",
       "         3.,   4.,   8.,   1.,   4.,   8.,   3.,   8.,   1.,   0.,   2.,\n",
       "         3.,   1.,   3.,   8.,   2.,   0.,   8.,   8.,   3.,   3.,   2.,\n",
       "         8.,   8.,  24.,   8.,   2.,   8.,   3.,   1.,   8.,   8.,   1.,\n",
       "       120.,  16.,   1.,   4.,   8.,   2.,   3.,   8.,   3.,   3.,   2.,\n",
       "         8.,   2.,   0.,   1.,   8.,   2.,   8.,   7.,   0.,   8.,   8.,\n",
       "         8.,   3.,   1.,   1.,  24.,   8.,   8.,   2.,   3.,   1.,  40.,\n",
       "         1.,   4.,  24.,  32.,   8.,   3.,   3.,  24.,   1.,   8.,   8.,\n",
       "         8.,   8.,   8.,   8.,   4.,   1.,   8.,   2.,   1.,  16.,  16.,\n",
       "         4.,   1.,   8.,   2., 104.,   4.,   2.,   4.,   3.,   2.,   1.,\n",
       "         1.,   2.,   8.,   0.,   2.,   4.,   2.,   2.,   1.,   2.,   8.,\n",
       "        24.,   0.,   4.,   8.,   1.,   3.,   3.,   2.,   0.,   8.,  16.,\n",
       "         4.,   3.,   8.,   8.,   3.,   3.,   3.,   8.,   8.,   3.,   2.,\n",
       "       112.,   8.,   8.,   2.,   8.,   1.,   1.,   0.,   2.,   3.,   3.,\n",
       "         1.,   8.,   4.,   2.,   3.,   1.,   3.,   8.,   8.,   2.,   2.,\n",
       "         1.,   1.,   2.,   8.,   8.,   4.,   4.,   2.,   8.,   8.,   1.,\n",
       "         2.,   8.,  16.,   1.,   0.,   2.,   2.,   2.,   8.,   3.,   8.,\n",
       "         8.,   8.,   3.,   2.,  16.,  40.,   3.,   8.,   2.,   3.,   0.,\n",
       "         3.,   3.,   2.,   1.,   8.,   4.,   3.,   8.,   8.,   8.,   2.,\n",
       "         2.,   2.,   2.,   8.,   1.,   8.,   0.,   1.,   2.,   8.,   8.,\n",
       "         1.,  56.,  32.,   0.,   0.,   2.,   1.,   3.,   1.,   8.,   4.,\n",
       "         8.,   8.,   2.,   3.,   2.,   8.,   8.,   2.,   8.,  24.,   3.,\n",
       "         3.,   8.,   8.,   5.,   3.,   1.,   2.,   8.,   3.,   3.,   2.,\n",
       "         2.,   8.,   8.,  24.,   5.,   4.,   4.,   3.,  16.,   8.,   8.,\n",
       "         2.,   1.,   1.,   8.,   4.,  64.,   8.,   2.,   2.,   1.,   3.,\n",
       "        32.,   2.,   8.,   1.,   1.,   8.,   4.,   2.,   3.,   8.,   3.,\n",
       "         8.,   8.,   3.,   2.,   8.,  24.,   1.,   2.,   8.,   2.,   1.,\n",
       "         2.,   2.,   2.,   8.,   1.,   2.,   0.,   4.,   4.,   4.,   8.,\n",
       "         0.,   4.,   3.,   1.,  16.,   8.,   8.,   8.,  16.,   2.,   2.,\n",
       "         8.,   3., 112.,   2.,   3.,   3.,   0.,   4.,   8.,   2.,   5.,\n",
       "         3.,  24.,   0.,   2.,   0.,   8.,   0.,   4.,   8.,   0.,   8.,\n",
       "        16.,   8.,  32.,   8.,   8.,   8.,  16.,   3.,   0.,   2.,   4.,\n",
       "         1.,   2.,   2.,   3.,   8.,   2.,   4.,   8.,   3.,   8.,   8.,\n",
       "         8.,   1.,   5.,   2.,  24.,   0.,  16.,   8.,   3.,   8.,   2.,\n",
       "         2.,   8.,   2.,   2.,   3.,   2.,   2.,   8.,   8.,   3.,   0.,\n",
       "         8.,   3.,   8.,   1.,   0.,   8.,   8.,   0.,  24.,   3.,   3.,\n",
       "         1.,   1.,  16.,   2.,   8.,   2.,  64.,   3.,  40.,   1.,   8.,\n",
       "         0.,   4.,   2.,   2.,   8.,   2.,   5.,   3.,   8.,   3.,   2.])"
      ]
     },
     "execution_count": 12,
     "metadata": {},
     "output_type": "execute_result"
    }
   ],
   "source": [
    "y_train"
   ]
  },
  {
   "cell_type": "code",
   "execution_count": 13,
   "metadata": {},
   "outputs": [
    {
     "data": {
      "text/plain": [
       "array([  1.,   4.,   8.,   2.,   4.,   2.,   2.,   5.,   8.,   1.,   0.,\n",
       "         0.,   4.,   8.,   0.,  24.,   1.,   3.,   8.,   4.,   3.,   1.,\n",
       "         8.,   0.,   2.,   3.,   1.,   2.,   2.,   8.,   8.,   3.,   8.,\n",
       "         3.,   1.,   3.,   8.,   2.,   8.,   8.,   3.,   8.,   2.,   2.,\n",
       "         2.,   2.,   8.,   8.,   3.,   1.,   2.,  16.,   8.,   3.,   1.,\n",
       "         0.,   2.,   0.,   8.,   8.,   8.,   2.,  24.,   8.,   8.,   8.,\n",
       "         3.,   3.,   4.,  24.,   2.,   8.,   8.,   2.,   1.,   8.,   3.,\n",
       "         3.,   8.,  32.,   1.,   2.,   8.,   8.,   8.,   0.,   4.,  40.,\n",
       "         8.,   8.,   2.,   0.,   4.,   1.,   8.,   2.,   2.,   8.,   3.,\n",
       "         8.,   2.,  80.,   8.,   2.,   8.,   3.,   8.,   2.,   0.,   1.,\n",
       "         8.,   2.,   5.,   3.,  80.,   8.,   2.,   2.,   8.,  16.,   4.,\n",
       "         1.,   8.,   4.,   1.,   1.,   0.,   2.,   8.,   1.,   3.,   1.,\n",
       "         2.,   3.,   4.,   8.,  16.,   2.,   1.,   4.,   3.,   4.,  24.,\n",
       "         2.,   1.,   2.,   2.,   2.,   8.,   0.,   8.,   4.,   1.,   3.,\n",
       "         8.,   3.,   8.,  40.,   3.,   4.,   8.,   2.,   3.,   1.,   4.,\n",
       "         8.,   8.,   1.,   2.,   2.,   2.,   1.,   4.,   2.,   3.,   3.,\n",
       "         8.,  24.,   1.,   2.,   8.,   8.,   8.,   2.,   0., 120.,  64.,\n",
       "         2.,   8.,   0.,   8.,   2.,   1., 120.,   4.,   1.,   8.,   2.,\n",
       "         3.,   8.,   8.,   2.,   8.,   2.,   8.,   4.,   3.,   3.,   2.,\n",
       "         2.,   4.,   3.,   3.,   3.,   2.,   2.,   4.,   2.,   8.,   2.,\n",
       "         3.,   4.,   2.,   8.,   1.,   2.,   8.,   3.,   2.,   1.,   2.,\n",
       "        48.,   8.,  40.,   3.,   3.,   8.,   3.,   8.,   2.,   2.,   8.,\n",
       "        56.,   1.,   2.])"
      ]
     },
     "execution_count": 13,
     "metadata": {},
     "output_type": "execute_result"
    }
   ],
   "source": [
    " y_test"
   ]
  },
  {
   "cell_type": "code",
   "execution_count": 14,
   "metadata": {},
   "outputs": [
    {
     "name": "stderr",
     "output_type": "stream",
     "text": [
      "/home/felipemartinezs/.local/lib/python3.5/site-packages/sklearn/linear_model/logistic.py:433: FutureWarning: Default solver will be changed to 'lbfgs' in 0.22. Specify a solver to silence this warning.\n",
      "  FutureWarning)\n",
      "/home/felipemartinezs/.local/lib/python3.5/site-packages/sklearn/linear_model/logistic.py:460: FutureWarning: Default multi_class will be changed to 'auto' in 0.22. Specify the multi_class option to silence this warning.\n",
      "  \"this warning.\", FutureWarning)\n",
      "/home/felipemartinezs/.local/lib/python3.5/site-packages/sklearn/linear_model/logistic.py:433: FutureWarning: Default solver will be changed to 'lbfgs' in 0.22. Specify a solver to silence this warning.\n",
      "  FutureWarning)\n",
      "/home/felipemartinezs/.local/lib/python3.5/site-packages/sklearn/linear_model/logistic.py:460: FutureWarning: Default multi_class will be changed to 'auto' in 0.22. Specify the multi_class option to silence this warning.\n",
      "  \"this warning.\", FutureWarning)\n",
      "/home/felipemartinezs/.local/lib/python3.5/site-packages/sklearn/linear_model/logistic.py:433: FutureWarning: Default solver will be changed to 'lbfgs' in 0.22. Specify a solver to silence this warning.\n",
      "  FutureWarning)\n",
      "/home/felipemartinezs/.local/lib/python3.5/site-packages/sklearn/linear_model/logistic.py:460: FutureWarning: Default multi_class will be changed to 'auto' in 0.22. Specify the multi_class option to silence this warning.\n",
      "  \"this warning.\", FutureWarning)\n",
      "/home/felipemartinezs/.local/lib/python3.5/site-packages/sklearn/linear_model/logistic.py:433: FutureWarning: Default solver will be changed to 'lbfgs' in 0.22. Specify a solver to silence this warning.\n",
      "  FutureWarning)\n",
      "/home/felipemartinezs/.local/lib/python3.5/site-packages/sklearn/linear_model/logistic.py:460: FutureWarning: Default multi_class will be changed to 'auto' in 0.22. Specify the multi_class option to silence this warning.\n",
      "  \"this warning.\", FutureWarning)\n",
      "/home/felipemartinezs/.local/lib/python3.5/site-packages/sklearn/linear_model/logistic.py:433: FutureWarning: Default solver will be changed to 'lbfgs' in 0.22. Specify a solver to silence this warning.\n",
      "  FutureWarning)\n",
      "/home/felipemartinezs/.local/lib/python3.5/site-packages/sklearn/linear_model/logistic.py:460: FutureWarning: Default multi_class will be changed to 'auto' in 0.22. Specify the multi_class option to silence this warning.\n",
      "  \"this warning.\", FutureWarning)\n",
      "/home/felipemartinezs/.local/lib/python3.5/site-packages/sklearn/linear_model/logistic.py:433: FutureWarning: Default solver will be changed to 'lbfgs' in 0.22. Specify a solver to silence this warning.\n",
      "  FutureWarning)\n",
      "/home/felipemartinezs/.local/lib/python3.5/site-packages/sklearn/linear_model/logistic.py:460: FutureWarning: Default multi_class will be changed to 'auto' in 0.22. Specify the multi_class option to silence this warning.\n",
      "  \"this warning.\", FutureWarning)\n",
      "/home/felipemartinezs/.local/lib/python3.5/site-packages/sklearn/linear_model/logistic.py:433: FutureWarning: Default solver will be changed to 'lbfgs' in 0.22. Specify a solver to silence this warning.\n",
      "  FutureWarning)\n",
      "/home/felipemartinezs/.local/lib/python3.5/site-packages/sklearn/linear_model/logistic.py:460: FutureWarning: Default multi_class will be changed to 'auto' in 0.22. Specify the multi_class option to silence this warning.\n",
      "  \"this warning.\", FutureWarning)\n",
      "/home/felipemartinezs/.local/lib/python3.5/site-packages/sklearn/linear_model/logistic.py:433: FutureWarning: Default solver will be changed to 'lbfgs' in 0.22. Specify a solver to silence this warning.\n",
      "  FutureWarning)\n",
      "/home/felipemartinezs/.local/lib/python3.5/site-packages/sklearn/linear_model/logistic.py:460: FutureWarning: Default multi_class will be changed to 'auto' in 0.22. Specify the multi_class option to silence this warning.\n",
      "  \"this warning.\", FutureWarning)\n"
     ]
    },
    {
     "name": "stdout",
     "output_type": "stream",
     "text": [
      "Accuracy: 61.081% (7.297%)\n"
     ]
    },
    {
     "name": "stderr",
     "output_type": "stream",
     "text": [
      "/home/felipemartinezs/.local/lib/python3.5/site-packages/sklearn/linear_model/logistic.py:433: FutureWarning: Default solver will be changed to 'lbfgs' in 0.22. Specify a solver to silence this warning.\n",
      "  FutureWarning)\n",
      "/home/felipemartinezs/.local/lib/python3.5/site-packages/sklearn/linear_model/logistic.py:460: FutureWarning: Default multi_class will be changed to 'auto' in 0.22. Specify the multi_class option to silence this warning.\n",
      "  \"this warning.\", FutureWarning)\n",
      "/home/felipemartinezs/.local/lib/python3.5/site-packages/sklearn/linear_model/logistic.py:433: FutureWarning: Default solver will be changed to 'lbfgs' in 0.22. Specify a solver to silence this warning.\n",
      "  FutureWarning)\n",
      "/home/felipemartinezs/.local/lib/python3.5/site-packages/sklearn/linear_model/logistic.py:460: FutureWarning: Default multi_class will be changed to 'auto' in 0.22. Specify the multi_class option to silence this warning.\n",
      "  \"this warning.\", FutureWarning)\n"
     ]
    }
   ],
   "source": [
    "# Evaluate using Cross Validation\n",
    "from pandas import read_csv\n",
    "from sklearn.model_selection import KFold\n",
    "from sklearn.model_selection import cross_val_score\n",
    "from sklearn.linear_model import LogisticRegression\n",
    "#filename = 'pima-indians-diabetes.data.csv'\n",
    "#names = ['preg', 'plas', 'pres', 'skin', 'test', 'mass', 'pedi', 'age', 'class']\n",
    "#dataframe = read_csv(filename, names=names)\n",
    "array = dataframe.values\n",
    "X = array[:,0:15]\n",
    "Y = array[:,14]\n",
    "kfold = KFold(n_splits=10, random_state=7)\n",
    "model = LogisticRegression()\n",
    "results = cross_val_score(model, X, Y, cv=kfold)\n",
    "print(\"Accuracy: %.3f%% (%.3f%%)\" % (results.mean()*100.0, results.std()*100.0))"
   ]
  },
  {
   "cell_type": "code",
   "execution_count": null,
   "metadata": {},
   "outputs": [],
   "source": []
  }
 ],
 "metadata": {
  "kernelspec": {
   "display_name": "Python 3",
   "language": "python",
   "name": "python3"
  },
  "language_info": {
   "codemirror_mode": {
    "name": "ipython",
    "version": 3
   },
   "file_extension": ".py",
   "mimetype": "text/x-python",
   "name": "python",
   "nbconvert_exporter": "python",
   "pygments_lexer": "ipython3",
   "version": "3.5.2"
  }
 },
 "nbformat": 4,
 "nbformat_minor": 2
}
